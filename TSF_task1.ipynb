{
  "nbformat": 4,
  "nbformat_minor": 0,
  "metadata": {
    "colab": {
      "name": "TSF #task1.ipynb",
      "provenance": [],
      "collapsed_sections": []
    },
    "kernelspec": {
      "name": "python3",
      "display_name": "Python 3"
    },
    "language_info": {
      "name": "python"
    }
  },
  "cells": [
    {
      "cell_type": "markdown",
      "metadata": {
        "id": "-LbORV0YyQnR"
      },
      "source": [
        "## The Sparks Foundation [Data Science and Buisness Analytics Tasks]\n",
        "\n",
        "### Name - Pushkar Suthar\n",
        "\n",
        "### TSF Task 1: Prediction using Supervised ML (Level - Beginner)\n"
      ]
    },
    {
      "cell_type": "code",
      "metadata": {
        "id": "D9n5M4E40woM"
      },
      "source": [
        "# Importing the Libraries which are required\n",
        "\n",
        "from sklearn.model_selection import train_test_split\n",
        "from sklearn.linear_model import LinearRegression\n",
        "import matplotlib.pyplot as plt\n",
        "import pandas as pd\n",
        "import numpy as np"
      ],
      "execution_count": 1,
      "outputs": []
    },
    {
      "cell_type": "markdown",
      "metadata": {
        "id": "pxSX59oA2GTh"
      },
      "source": [
        "### Step 1 : Reading the Data from the Source"
      ]
    },
    {
      "cell_type": "code",
      "metadata": {
        "colab": {
          "base_uri": "https://localhost:8080/",
          "height": 219
        },
        "id": "4EjfUMcs2D7O",
        "outputId": "004b1d13-9e60-4884-9d1d-ece555ee7982"
      },
      "source": [
        "# Reading the data from external link\n",
        "link = r\"https://raw.githubusercontent.com/AdiPersonalWorks/Random/master/student_scores%20-%20student_scores.csv\"\n",
        "student_data = pd.read_csv(link)\n",
        "print(\"Data Imported Successfully\")\n",
        "\n",
        "student_data.head()"
      ],
      "execution_count": 2,
      "outputs": [
        {
          "output_type": "stream",
          "name": "stdout",
          "text": [
            "Data Imported Successfully\n"
          ]
        },
        {
          "output_type": "execute_result",
          "data": {
            "text/html": [
              "<div>\n",
              "<style scoped>\n",
              "    .dataframe tbody tr th:only-of-type {\n",
              "        vertical-align: middle;\n",
              "    }\n",
              "\n",
              "    .dataframe tbody tr th {\n",
              "        vertical-align: top;\n",
              "    }\n",
              "\n",
              "    .dataframe thead th {\n",
              "        text-align: right;\n",
              "    }\n",
              "</style>\n",
              "<table border=\"1\" class=\"dataframe\">\n",
              "  <thead>\n",
              "    <tr style=\"text-align: right;\">\n",
              "      <th></th>\n",
              "      <th>Hours</th>\n",
              "      <th>Scores</th>\n",
              "    </tr>\n",
              "  </thead>\n",
              "  <tbody>\n",
              "    <tr>\n",
              "      <th>0</th>\n",
              "      <td>2.5</td>\n",
              "      <td>21</td>\n",
              "    </tr>\n",
              "    <tr>\n",
              "      <th>1</th>\n",
              "      <td>5.1</td>\n",
              "      <td>47</td>\n",
              "    </tr>\n",
              "    <tr>\n",
              "      <th>2</th>\n",
              "      <td>3.2</td>\n",
              "      <td>27</td>\n",
              "    </tr>\n",
              "    <tr>\n",
              "      <th>3</th>\n",
              "      <td>8.5</td>\n",
              "      <td>75</td>\n",
              "    </tr>\n",
              "    <tr>\n",
              "      <th>4</th>\n",
              "      <td>3.5</td>\n",
              "      <td>30</td>\n",
              "    </tr>\n",
              "  </tbody>\n",
              "</table>\n",
              "</div>"
            ],
            "text/plain": [
              "   Hours  Scores\n",
              "0    2.5      21\n",
              "1    5.1      47\n",
              "2    3.2      27\n",
              "3    8.5      75\n",
              "4    3.5      30"
            ]
          },
          "metadata": {},
          "execution_count": 2
        }
      ]
    },
    {
      "cell_type": "markdown",
      "metadata": {
        "id": "N4XdAO253IlZ"
      },
      "source": [
        "### Step 2 : Visualising the Data\n",
        "\n"
      ]
    },
    {
      "cell_type": "code",
      "metadata": {
        "colab": {
          "base_uri": "https://localhost:8080/",
          "height": 295
        },
        "id": "oELvqmZg3S8r",
        "outputId": "ee439f5f-8f1d-4054-c69e-a67862513fc8"
      },
      "source": [
        "# Ploting the graph for visual representation of scores\n",
        "\n",
        "student_data.plot(x='Hours', y='Scores', style ='X')\n",
        "plt.title('Hours v/s Percentage Graph')\n",
        "plt.xlabel('Study Hours')\n",
        "plt.ylabel(\"Percentage Scored\")\n",
        "plt.show()"
      ],
      "execution_count": 3,
      "outputs": [
        {
          "output_type": "display_data",
          "data": {
            "image/png": "[encoded data removed]",
            "text/plain": [
              "<Figure size 432x288 with 1 Axes>"
            ]
          },
          "metadata": {
            "needs_background": "light"
          }
        }
      ]
    },
    {
      "cell_type": "markdown",
      "metadata": {
        "id": "rOxKQC0p4sVg"
      },
      "source": [
        "From the above graph we can safely assume that there is a positive linear relation between the number of hours studied and the obtained percentage scxore"
      ]
    },
    {
      "cell_type": "markdown",
      "metadata": {
        "id": "JscWEtF35PK8"
      },
      "source": [
        "### Step 3 : Processing the Data"
      ]
    },
    {
      "cell_type": "code",
      "metadata": {
        "id": "hN5nheCo5tYB"
      },
      "source": [
        "X = student_data.iloc[ : , :-1].values\n",
        "y= student_data.iloc[ : , 1].values"
      ],
      "execution_count": 4,
      "outputs": []
    },
    {
      "cell_type": "markdown",
      "metadata": {
        "id": "OlQklt746R6s"
      },
      "source": [
        "### Step 4 : Model Training\n",
        "\n",
        "Splitting the data into training  and testing sets\n"
      ]
    },
    {
      "cell_type": "code",
      "metadata": {
        "colab": {
          "base_uri": "https://localhost:8080/"
        },
        "id": "i4MkKeN57GSk",
        "outputId": "d879914a-a928-4954-f86c-48210466024a"
      },
      "source": [
        "X_train, X_test, y_train, y_test = train_test_split(X, y, test_size=0.2, random_state =0)\n",
        "regressor = LinearRegression()\n",
        "regressor.fit(X_train.reshape(-1,1), y_train)\n",
        "\n",
        "print(\"Training Completed\")"
      ],
      "execution_count": 5,
      "outputs": [
        {
          "output_type": "stream",
          "name": "stdout",
          "text": [
            "Training Completed\n"
          ]
        }
      ]
    },
    {
      "cell_type": "markdown",
      "metadata": {
        "id": "q2B8HHkLAaLW"
      },
      "source": [
        "### Step 5 : Plotting the Regression line"
      ]
    },
    {
      "cell_type": "code",
      "metadata": {
        "colab": {
          "base_uri": "https://localhost:8080/",
          "height": 265
        },
        "id": "5P823iyRAntT",
        "outputId": "bcea2738-ee41-4f57-d65d-7b7e94a45619"
      },
      "source": [
        "#ploting the line of regression\n",
        "line = regressor.coef_*X+regressor.intercept_\n",
        "\n",
        "plt.scatter(X, y)\n",
        "plt.plot(X,line,color='yellow');\n",
        "plt.show()"
      ],
      "execution_count": 6,
      "outputs": [
        {
          "output_type": "display_data",
          "data": {
            "image/png": "[encoded data removed]",
            "text/plain": [
              "<Figure size 432x288 with 1 Axes>"
            ]
          },
          "metadata": {
            "needs_background": "light"
          }
        }
      ]
    },
    {
      "cell_type": "markdown",
      "metadata": {
        "id": "Rf_o0nNMDJvI"
      },
      "source": [
        "### Step 6 : Making the Predictions\n",
        "\n",
        "Now that we have trained our model its time for testing the model by making predictions and for this we will use the test dataset   "
      ]
    },
    {
      "cell_type": "code",
      "metadata": {
        "colab": {
          "base_uri": "https://localhost:8080/"
        },
        "id": "iKmuSMHIDwqr",
        "outputId": "9353b252-eacd-4b2e-f352-2a19f5cd1d02"
      },
      "source": [
        "# Testing the model\n",
        "print(X_test)\n",
        "\n",
        "# Predicting the model\n",
        "y_pred = regressor.predict(X_test)"
      ],
      "execution_count": 7,
      "outputs": [
        {
          "output_type": "stream",
          "name": "stdout",
          "text": [
            "[[1.5]\n",
            " [3.2]\n",
            " [7.4]\n",
            " [2.5]\n",
            " [5.9]]\n"
          ]
        }
      ]
    },
    {
      "cell_type": "markdown",
      "metadata": {
        "id": "Rk2cPwxHETKj"
      },
      "source": [
        "### Step 7 : Comparing Actual Results with the predicted result of model"
      ]
    },
    {
      "cell_type": "code",
      "metadata": {
        "colab": {
          "base_uri": "https://localhost:8080/",
          "height": 202
        },
        "id": "nO6vjrhTESJF",
        "outputId": "1f6a26f7-3083-4abc-eb53-851b67ecaf95"
      },
      "source": [
        "# Acrtual v/s Predicted\n",
        "df = pd.DataFrame({'Actual': y_test, 'Predicted': y_pred})\n",
        "df"
      ],
      "execution_count": 8,
      "outputs": [
        {
          "output_type": "execute_result",
          "data": {
            "text/html": [
              "<div>\n",
              "<style scoped>\n",
              "    .dataframe tbody tr th:only-of-type {\n",
              "        vertical-align: middle;\n",
              "    }\n",
              "\n",
              "    .dataframe tbody tr th {\n",
              "        vertical-align: top;\n",
              "    }\n",
              "\n",
              "    .dataframe thead th {\n",
              "        text-align: right;\n",
              "    }\n",
              "</style>\n",
              "<table border=\"1\" class=\"dataframe\">\n",
              "  <thead>\n",
              "    <tr style=\"text-align: right;\">\n",
              "      <th></th>\n",
              "      <th>Actual</th>\n",
              "      <th>Predicted</th>\n",
              "    </tr>\n",
              "  </thead>\n",
              "  <tbody>\n",
              "    <tr>\n",
              "      <th>0</th>\n",
              "      <td>20</td>\n",
              "      <td>16.884145</td>\n",
              "    </tr>\n",
              "    <tr>\n",
              "      <th>1</th>\n",
              "      <td>27</td>\n",
              "      <td>33.732261</td>\n",
              "    </tr>\n",
              "    <tr>\n",
              "      <th>2</th>\n",
              "      <td>69</td>\n",
              "      <td>75.357018</td>\n",
              "    </tr>\n",
              "    <tr>\n",
              "      <th>3</th>\n",
              "      <td>30</td>\n",
              "      <td>26.794801</td>\n",
              "    </tr>\n",
              "    <tr>\n",
              "      <th>4</th>\n",
              "      <td>62</td>\n",
              "      <td>60.491033</td>\n",
              "    </tr>\n",
              "  </tbody>\n",
              "</table>\n",
              "</div>"
            ],
            "text/plain": [
              "   Actual  Predicted\n",
              "0      20  16.884145\n",
              "1      27  33.732261\n",
              "2      69  75.357018\n",
              "3      30  26.794801\n",
              "4      62  60.491033"
            ]
          },
          "metadata": {},
          "execution_count": 8
        }
      ]
    },
    {
      "cell_type": "markdown",
      "metadata": {
        "id": "rFH003N4E-Rr"
      },
      "source": [
        "###  *  *  * Estimating the training and test Scores  *  *  *  \n",
        "\n",
        "\n",
        "\n",
        "\n"
      ]
    },
    {
      "cell_type": "code",
      "metadata": {
        "colab": {
          "base_uri": "https://localhost:8080/"
        },
        "id": "KJcM5NVYFGPl",
        "outputId": "80116acf-a358-464c-efcc-ef80dc9ccab0"
      },
      "source": [
        "print(\"Training Score:\", regressor.score(X_train,y_train))\n",
        "print(\"Test Score:\", regressor.score(X_test, y_test))"
      ],
      "execution_count": 9,
      "outputs": [
        {
          "output_type": "stream",
          "name": "stdout",
          "text": [
            "Training Score: 0.9515510725211553\n",
            "Test Score: 0.9454906892105354\n"
          ]
        }
      ]
    },
    {
      "cell_type": "markdown",
      "metadata": {
        "id": "Aqug5JnCFpxQ"
      },
      "source": [
        "### * * *   Plotting the bar graph to depict the result ofDifference between actual and predicted values * * *"
      ]
    },
    {
      "cell_type": "code",
      "metadata": {
        "colab": {
          "base_uri": "https://localhost:8080/",
          "height": 333
        },
        "id": "L6oIABgmGEVx",
        "outputId": "a05df370-7696-4ab9-9bd5-3538789447ba"
      },
      "source": [
        "df.plot(kind='bar',figsize=(5,5))\n"
      ],
      "execution_count": 10,
      "outputs": [
        {
          "output_type": "execute_result",
          "data": {
            "text/plain": [
              "<matplotlib.axes._subplots.AxesSubplot at 0x7ff12df55410>"
            ]
          },
          "metadata": {},
          "execution_count": 10
        },
        {
          "output_type": "display_data",
          "data": {
            "image/png": "[encoded data removed]",
            "text/plain": [
              "<Figure size 360x360 with 1 Axes>"
            ]
          },
          "metadata": {
            "needs_background": "light"
          }
        }
      ]
    },
    {
      "cell_type": "markdown",
      "metadata": {
        "id": "J3E_VX2OGupa"
      },
      "source": [
        "### *  *  *  Testing the model with our own Data *  *  *  "
      ]
    },
    {
      "cell_type": "code",
      "metadata": {
        "colab": {
          "base_uri": "https://localhost:8080/"
        },
        "id": "YAZLF4vQG3Vm",
        "outputId": "ab39c71c-629a-4f73-f596-90eb7d53cb04"
      },
      "source": [
        "hours = 6.25\n",
        "tests =np.array([hours])\n",
        "tests = tests.reshape(-1, 1)\n",
        "my_pred = regressor.predict(tests)\n",
        "print(\"Number of Hours : {}\".format(hours))\n",
        "print(\"Predicted Score : {}\".format(my_pred))"
      ],
      "execution_count": 11,
      "outputs": [
        {
          "output_type": "stream",
          "name": "stdout",
          "text": [
            "Number of Hours : 6.25\n",
            "Predicted Score : [63.95976305]\n"
          ]
        }
      ]
    },
    {
      "cell_type": "markdown",
      "metadata": {
        "id": "n10cNZHfJEsn"
      },
      "source": [
        "### Step 8 : Model Evaluation\n",
        "\n",
        "The final step is to evaluate the model. This step is very important, to compare how well different algorithms performon a particular dataset.\n",
        "Here different types of errors have been calculated to measure the perfrmance and accuracy of the prediction "
      ]
    },
    {
      "cell_type": "code",
      "metadata": {
        "colab": {
          "base_uri": "https://localhost:8080/"
        },
        "id": "ahx4kgrYJKz_",
        "outputId": "f88ca7f8-e8dc-4bc0-fa90-49a59eeeab81"
      },
      "source": [
        "# Evaluting The Model\n",
        "from sklearn import metrics \n",
        "print(\"Mean Absolute Error : \", metrics.mean_absolute_error(y_test, y_pred))\n",
        "print(\"Mean Squared Error : \", metrics.mean_squared_error(y_test, y_pred))\n",
        "print(\"Root Mean Absolute Error : \", np.sqrt(metrics.mean_absolute_error(y_test, y_pred)))\n",
        "print(\"R-2 : \", metrics.r2_score(y_test, y_pred))"
      ],
      "execution_count": 12,
      "outputs": [
        {
          "output_type": "stream",
          "name": "stdout",
          "text": [
            "Mean Absolute Error :  4.183859899002982\n",
            "Mean Squared Error :  21.598769307217456\n",
            "Root Mean Absolute Error :  2.0454485813637513\n",
            "R-2 :  0.9454906892105354\n"
          ]
        }
      ]
    },
    {
      "cell_type": "markdown",
      "metadata": {
        "id": "q3k_ZK15LWPK"
      },
      "source": [
        "## Thank You"
      ]
    }
  ]
}